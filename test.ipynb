{
 "cells": [
  {
   "cell_type": "code",
   "execution_count": 9,
   "id": "5fa30e47",
   "metadata": {},
   "outputs": [
    {
     "name": "stderr",
     "output_type": "stream",
     "text": [
      "d:\\Work\\Master\\NLP\\caohoc-nlp-lab2\\.venv\\Lib\\site-packages\\tqdm\\auto.py:21: TqdmWarning: IProgress not found. Please update jupyter and ipywidgets. See https://ipywidgets.readthedocs.io/en/stable/user_install.html\n",
      "  from .autonotebook import tqdm as notebook_tqdm\n"
     ]
    }
   ],
   "source": [
    "from backend.utils.context import ContextBase\n",
    "from backend.utils.translate import translate\n",
    "from backend.utils.model import ChatbotModel"
   ]
  },
  {
   "cell_type": "code",
   "execution_count": 11,
   "id": "995ad4c7",
   "metadata": {},
   "outputs": [
    {
     "name": "stdout",
     "output_type": "stream",
     "text": [
      "Đã đọc 24504 đoạn thông tin.\n",
      "✅ Loaded LoRA adapter từ: backend\\checkpoints\\DebertaV3\n"
     ]
    }
   ],
   "source": [
    "MODEL_NAME = \"google/flan-t5-large\"\n",
    "c = ContextBase()\n",
    "tr = translate()\n",
    "bot = ChatbotModel(MODEL_NAME, \"backend\\checkpoints\\DebertaV3\")"
   ]
  },
  {
   "cell_type": "code",
   "execution_count": 15,
   "id": "2705ca5f",
   "metadata": {},
   "outputs": [
    {
     "name": "stdout",
     "output_type": "stream",
     "text": [
      "Temperate Forests Temperate forests are the most common biome in eastern North America, Western Europe, Eastern Asia, Chile, and New Zealand (Figure 20.18). This biome is found throughout mid-latitude regions. Temperatures range between –30oC and 30oC (–22oF to 86oF) and drop to below freezing on an annual basis. These temperatures mean that temperate forests have defined growing seasons during the spring, summer, and early fall. Precipitation is relatively constant throughout the year and ranges between 75 cm and 150 cm (29.5–59 in). Deciduous trees are the dominant plant in this biome with fewer evergreen conifers. Deciduous trees lose their leaves each fall and remain leafless in the winter. Thus, little photosynthesis occurs during the dormant winter period. Each spring, new leaves appear as temperature increases. Because of the dormant period, the net primary productivity of temperate forests is less than that of tropical rainforests. In addition, temperate forests show far less diversity of tree species than tropical rainforest biomes. The trees of the temperate forests leaf out and shade much of the ground; however, more sunlight reaches the ground in this biome than in tropical rainforests because trees in temperate forests do not grow as tall as the trees in tropical rainforests. The soils of the temperate forests are rich in inorganic and organic nutrients compared to tropical rainforests. This is because of the thick layer of leaf litter on forest floors and reduced leaching of nutrients by rainfall. As this leaf litter decays, nutrients are returned to the soil. The leaf litter also protects soil from erosion, insulates the ground, and provides habitats for invertebrates and their predators (Figure 20.24).\n",
      "Deciduous - Rụng lá\n"
     ]
    }
   ],
   "source": [
    "\n",
    "question = \"Loại cây nào chiếm ưu thế ở rừng ôn đới?\"\n",
    "eng_question = tr.translate_vi_en(question)\n",
    "context = c.search_best_context(eng_question)\n",
    "print(context)\n",
    "fin_question = f\"Question: {eng_question} \\nContext: {context}\"\n",
    "answer = bot.generate_ans(fin_question).replace(\"Answer: \", \"\").capitalize()\n",
    "vi_answer = tr.translate_en_vi(answer)\n",
    "print(f\"{answer} - {vi_answer}\")"
   ]
  },
  {
   "cell_type": "code",
   "execution_count": null,
   "id": "5e90a36c",
   "metadata": {},
   "outputs": [],
   "source": []
  }
 ],
 "metadata": {
  "kernelspec": {
   "display_name": ".venv",
   "language": "python",
   "name": "python3"
  },
  "language_info": {
   "codemirror_mode": {
    "name": "ipython",
    "version": 3
   },
   "file_extension": ".py",
   "mimetype": "text/x-python",
   "name": "python",
   "nbconvert_exporter": "python",
   "pygments_lexer": "ipython3",
   "version": "3.11.9"
  }
 },
 "nbformat": 4,
 "nbformat_minor": 5
}
